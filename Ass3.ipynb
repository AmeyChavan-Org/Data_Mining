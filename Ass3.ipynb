{
  "nbformat": 4,
  "nbformat_minor": 0,
  "metadata": {
    "colab": {
      "provenance": [],
      "include_colab_link": true
    },
    "kernelspec": {
      "name": "python3",
      "display_name": "Python 3"
    },
    "language_info": {
      "name": "python"
    }
  },
  "cells": [
    {
      "cell_type": "markdown",
      "metadata": {
        "id": "view-in-github",
        "colab_type": "text"
      },
      "source": [
        "<a href=\"https://colab.research.google.com/github/AmeyChavan-Org/Data_Mining/blob/main/Ass3.ipynb\" target=\"_parent\"><img src=\"https://colab.research.google.com/assets/colab-badge.svg\" alt=\"Open In Colab\"/></a>"
      ]
    },
    {
      "cell_type": "code",
      "execution_count": null,
      "metadata": {
        "id": "3BRJTlKn58yM"
      },
      "outputs": [],
      "source": [
        "import pandas as pd"
      ]
    },
    {
      "cell_type": "code",
      "source": [
        "df = pd.read_csv('/content/drive/MyDrive/real.xlsx - real.csv')\n",
        "df"
      ],
      "metadata": {
        "colab": {
          "base_uri": "https://localhost:8080/",
          "height": 424
        },
        "id": "8UCl1smg7JD1",
        "outputId": "2042083d-a4c4-4a9c-dad6-e860a97d19cc"
      },
      "execution_count": null,
      "outputs": [
        {
          "output_type": "execute_result",
          "data": {
            "text/plain": [
              "                  street             city    zip state  beds  baths  sq__ft  \\\n",
              "0           3526 HIGH ST       SACRAMENTO  95838    CA     2      1     836   \n",
              "1            51 OMAHA CT       SACRAMENTO  95823    CA     3      1    1167   \n",
              "2         2796 BRANCH ST       SACRAMENTO  95815    CA     2      1     796   \n",
              "3       2805 JANETTE WAY       SACRAMENTO  95815    CA     2      1     852   \n",
              "4        6001 MCMAHON DR       SACRAMENTO  95824    CA     2      1     797   \n",
              "..                   ...              ...    ...   ...   ...    ...     ...   \n",
              "980   9169 GARLINGTON CT       SACRAMENTO  95829    CA     4      3    2280   \n",
              "981      6932 RUSKUT WAY       SACRAMENTO  95823    CA     3      2    1477   \n",
              "982    7933 DAFFODIL WAY   CITRUS HEIGHTS  95610    CA     3      2    1216   \n",
              "983     8304 RED FOX WAY        ELK GROVE  95758    CA     4      2    1685   \n",
              "984  3882 YELLOWSTONE LN  EL DORADO HILLS  95762    CA     3      2    1362   \n",
              "\n",
              "            type                     sale_date   price   latitude   longitude  \n",
              "0    Residential  Wed May 21 00:00:00 EDT 2008   59222  38.631913 -121.434879  \n",
              "1    Residential  Wed May 21 00:00:00 EDT 2008   68212  38.478902 -121.431028  \n",
              "2    Residential  Wed May 21 00:00:00 EDT 2008   68880  38.618305 -121.443839  \n",
              "3    Residential  Wed May 21 00:00:00 EDT 2008   69307  38.616835 -121.439146  \n",
              "4    Residential  Wed May 21 00:00:00 EDT 2008   81900  38.519470 -121.435768  \n",
              "..           ...                           ...     ...        ...         ...  \n",
              "980  Residential  Thu May 15 00:00:00 EDT 2008  232425  38.457679 -121.359620  \n",
              "981  Residential  Thu May 15 00:00:00 EDT 2008  234000  38.499893 -121.458890  \n",
              "982  Residential  Thu May 15 00:00:00 EDT 2008  235000  38.708824 -121.256803  \n",
              "983  Residential  Thu May 15 00:00:00 EDT 2008  235301  38.417000 -121.397424  \n",
              "984  Residential  Thu May 15 00:00:00 EDT 2008  235738  38.655245 -121.075915  \n",
              "\n",
              "[985 rows x 12 columns]"
            ],
            "text/html": [
              "\n",
              "  <div id=\"df-f612a57e-517c-4c9a-b564-14a416da0eb4\">\n",
              "    <div class=\"colab-df-container\">\n",
              "      <div>\n",
              "<style scoped>\n",
              "    .dataframe tbody tr th:only-of-type {\n",
              "        vertical-align: middle;\n",
              "    }\n",
              "\n",
              "    .dataframe tbody tr th {\n",
              "        vertical-align: top;\n",
              "    }\n",
              "\n",
              "    .dataframe thead th {\n",
              "        text-align: right;\n",
              "    }\n",
              "</style>\n",
              "<table border=\"1\" class=\"dataframe\">\n",
              "  <thead>\n",
              "    <tr style=\"text-align: right;\">\n",
              "      <th></th>\n",
              "      <th>street</th>\n",
              "      <th>city</th>\n",
              "      <th>zip</th>\n",
              "      <th>state</th>\n",
              "      <th>beds</th>\n",
              "      <th>baths</th>\n",
              "      <th>sq__ft</th>\n",
              "      <th>type</th>\n",
              "      <th>sale_date</th>\n",
              "      <th>price</th>\n",
              "      <th>latitude</th>\n",
              "      <th>longitude</th>\n",
              "    </tr>\n",
              "  </thead>\n",
              "  <tbody>\n",
              "    <tr>\n",
              "      <th>0</th>\n",
              "      <td>3526 HIGH ST</td>\n",
              "      <td>SACRAMENTO</td>\n",
              "      <td>95838</td>\n",
              "      <td>CA</td>\n",
              "      <td>2</td>\n",
              "      <td>1</td>\n",
              "      <td>836</td>\n",
              "      <td>Residential</td>\n",
              "      <td>Wed May 21 00:00:00 EDT 2008</td>\n",
              "      <td>59222</td>\n",
              "      <td>38.631913</td>\n",
              "      <td>-121.434879</td>\n",
              "    </tr>\n",
              "    <tr>\n",
              "      <th>1</th>\n",
              "      <td>51 OMAHA CT</td>\n",
              "      <td>SACRAMENTO</td>\n",
              "      <td>95823</td>\n",
              "      <td>CA</td>\n",
              "      <td>3</td>\n",
              "      <td>1</td>\n",
              "      <td>1167</td>\n",
              "      <td>Residential</td>\n",
              "      <td>Wed May 21 00:00:00 EDT 2008</td>\n",
              "      <td>68212</td>\n",
              "      <td>38.478902</td>\n",
              "      <td>-121.431028</td>\n",
              "    </tr>\n",
              "    <tr>\n",
              "      <th>2</th>\n",
              "      <td>2796 BRANCH ST</td>\n",
              "      <td>SACRAMENTO</td>\n",
              "      <td>95815</td>\n",
              "      <td>CA</td>\n",
              "      <td>2</td>\n",
              "      <td>1</td>\n",
              "      <td>796</td>\n",
              "      <td>Residential</td>\n",
              "      <td>Wed May 21 00:00:00 EDT 2008</td>\n",
              "      <td>68880</td>\n",
              "      <td>38.618305</td>\n",
              "      <td>-121.443839</td>\n",
              "    </tr>\n",
              "    <tr>\n",
              "      <th>3</th>\n",
              "      <td>2805 JANETTE WAY</td>\n",
              "      <td>SACRAMENTO</td>\n",
              "      <td>95815</td>\n",
              "      <td>CA</td>\n",
              "      <td>2</td>\n",
              "      <td>1</td>\n",
              "      <td>852</td>\n",
              "      <td>Residential</td>\n",
              "      <td>Wed May 21 00:00:00 EDT 2008</td>\n",
              "      <td>69307</td>\n",
              "      <td>38.616835</td>\n",
              "      <td>-121.439146</td>\n",
              "    </tr>\n",
              "    <tr>\n",
              "      <th>4</th>\n",
              "      <td>6001 MCMAHON DR</td>\n",
              "      <td>SACRAMENTO</td>\n",
              "      <td>95824</td>\n",
              "      <td>CA</td>\n",
              "      <td>2</td>\n",
              "      <td>1</td>\n",
              "      <td>797</td>\n",
              "      <td>Residential</td>\n",
              "      <td>Wed May 21 00:00:00 EDT 2008</td>\n",
              "      <td>81900</td>\n",
              "      <td>38.519470</td>\n",
              "      <td>-121.435768</td>\n",
              "    </tr>\n",
              "    <tr>\n",
              "      <th>...</th>\n",
              "      <td>...</td>\n",
              "      <td>...</td>\n",
              "      <td>...</td>\n",
              "      <td>...</td>\n",
              "      <td>...</td>\n",
              "      <td>...</td>\n",
              "      <td>...</td>\n",
              "      <td>...</td>\n",
              "      <td>...</td>\n",
              "      <td>...</td>\n",
              "      <td>...</td>\n",
              "      <td>...</td>\n",
              "    </tr>\n",
              "    <tr>\n",
              "      <th>980</th>\n",
              "      <td>9169 GARLINGTON CT</td>\n",
              "      <td>SACRAMENTO</td>\n",
              "      <td>95829</td>\n",
              "      <td>CA</td>\n",
              "      <td>4</td>\n",
              "      <td>3</td>\n",
              "      <td>2280</td>\n",
              "      <td>Residential</td>\n",
              "      <td>Thu May 15 00:00:00 EDT 2008</td>\n",
              "      <td>232425</td>\n",
              "      <td>38.457679</td>\n",
              "      <td>-121.359620</td>\n",
              "    </tr>\n",
              "    <tr>\n",
              "      <th>981</th>\n",
              "      <td>6932 RUSKUT WAY</td>\n",
              "      <td>SACRAMENTO</td>\n",
              "      <td>95823</td>\n",
              "      <td>CA</td>\n",
              "      <td>3</td>\n",
              "      <td>2</td>\n",
              "      <td>1477</td>\n",
              "      <td>Residential</td>\n",
              "      <td>Thu May 15 00:00:00 EDT 2008</td>\n",
              "      <td>234000</td>\n",
              "      <td>38.499893</td>\n",
              "      <td>-121.458890</td>\n",
              "    </tr>\n",
              "    <tr>\n",
              "      <th>982</th>\n",
              "      <td>7933 DAFFODIL WAY</td>\n",
              "      <td>CITRUS HEIGHTS</td>\n",
              "      <td>95610</td>\n",
              "      <td>CA</td>\n",
              "      <td>3</td>\n",
              "      <td>2</td>\n",
              "      <td>1216</td>\n",
              "      <td>Residential</td>\n",
              "      <td>Thu May 15 00:00:00 EDT 2008</td>\n",
              "      <td>235000</td>\n",
              "      <td>38.708824</td>\n",
              "      <td>-121.256803</td>\n",
              "    </tr>\n",
              "    <tr>\n",
              "      <th>983</th>\n",
              "      <td>8304 RED FOX WAY</td>\n",
              "      <td>ELK GROVE</td>\n",
              "      <td>95758</td>\n",
              "      <td>CA</td>\n",
              "      <td>4</td>\n",
              "      <td>2</td>\n",
              "      <td>1685</td>\n",
              "      <td>Residential</td>\n",
              "      <td>Thu May 15 00:00:00 EDT 2008</td>\n",
              "      <td>235301</td>\n",
              "      <td>38.417000</td>\n",
              "      <td>-121.397424</td>\n",
              "    </tr>\n",
              "    <tr>\n",
              "      <th>984</th>\n",
              "      <td>3882 YELLOWSTONE LN</td>\n",
              "      <td>EL DORADO HILLS</td>\n",
              "      <td>95762</td>\n",
              "      <td>CA</td>\n",
              "      <td>3</td>\n",
              "      <td>2</td>\n",
              "      <td>1362</td>\n",
              "      <td>Residential</td>\n",
              "      <td>Thu May 15 00:00:00 EDT 2008</td>\n",
              "      <td>235738</td>\n",
              "      <td>38.655245</td>\n",
              "      <td>-121.075915</td>\n",
              "    </tr>\n",
              "  </tbody>\n",
              "</table>\n",
              "<p>985 rows × 12 columns</p>\n",
              "</div>\n",
              "      <button class=\"colab-df-convert\" onclick=\"convertToInteractive('df-f612a57e-517c-4c9a-b564-14a416da0eb4')\"\n",
              "              title=\"Convert this dataframe to an interactive table.\"\n",
              "              style=\"display:none;\">\n",
              "        \n",
              "  <svg xmlns=\"http://www.w3.org/2000/svg\" height=\"24px\"viewBox=\"0 0 24 24\"\n",
              "       width=\"24px\">\n",
              "    <path d=\"M0 0h24v24H0V0z\" fill=\"none\"/>\n",
              "    <path d=\"M18.56 5.44l.94 2.06.94-2.06 2.06-.94-2.06-.94-.94-2.06-.94 2.06-2.06.94zm-11 1L8.5 8.5l.94-2.06 2.06-.94-2.06-.94L8.5 2.5l-.94 2.06-2.06.94zm10 10l.94 2.06.94-2.06 2.06-.94-2.06-.94-.94-2.06-.94 2.06-2.06.94z\"/><path d=\"M17.41 7.96l-1.37-1.37c-.4-.4-.92-.59-1.43-.59-.52 0-1.04.2-1.43.59L10.3 9.45l-7.72 7.72c-.78.78-.78 2.05 0 2.83L4 21.41c.39.39.9.59 1.41.59.51 0 1.02-.2 1.41-.59l7.78-7.78 2.81-2.81c.8-.78.8-2.07 0-2.86zM5.41 20L4 18.59l7.72-7.72 1.47 1.35L5.41 20z\"/>\n",
              "  </svg>\n",
              "      </button>\n",
              "      \n",
              "  <style>\n",
              "    .colab-df-container {\n",
              "      display:flex;\n",
              "      flex-wrap:wrap;\n",
              "      gap: 12px;\n",
              "    }\n",
              "\n",
              "    .colab-df-convert {\n",
              "      background-color: #E8F0FE;\n",
              "      border: none;\n",
              "      border-radius: 50%;\n",
              "      cursor: pointer;\n",
              "      display: none;\n",
              "      fill: #1967D2;\n",
              "      height: 32px;\n",
              "      padding: 0 0 0 0;\n",
              "      width: 32px;\n",
              "    }\n",
              "\n",
              "    .colab-df-convert:hover {\n",
              "      background-color: #E2EBFA;\n",
              "      box-shadow: 0px 1px 2px rgba(60, 64, 67, 0.3), 0px 1px 3px 1px rgba(60, 64, 67, 0.15);\n",
              "      fill: #174EA6;\n",
              "    }\n",
              "\n",
              "    [theme=dark] .colab-df-convert {\n",
              "      background-color: #3B4455;\n",
              "      fill: #D2E3FC;\n",
              "    }\n",
              "\n",
              "    [theme=dark] .colab-df-convert:hover {\n",
              "      background-color: #434B5C;\n",
              "      box-shadow: 0px 1px 3px 1px rgba(0, 0, 0, 0.15);\n",
              "      filter: drop-shadow(0px 1px 2px rgba(0, 0, 0, 0.3));\n",
              "      fill: #FFFFFF;\n",
              "    }\n",
              "  </style>\n",
              "\n",
              "      <script>\n",
              "        const buttonEl =\n",
              "          document.querySelector('#df-f612a57e-517c-4c9a-b564-14a416da0eb4 button.colab-df-convert');\n",
              "        buttonEl.style.display =\n",
              "          google.colab.kernel.accessAllowed ? 'block' : 'none';\n",
              "\n",
              "        async function convertToInteractive(key) {\n",
              "          const element = document.querySelector('#df-f612a57e-517c-4c9a-b564-14a416da0eb4');\n",
              "          const dataTable =\n",
              "            await google.colab.kernel.invokeFunction('convertToInteractive',\n",
              "                                                     [key], {});\n",
              "          if (!dataTable) return;\n",
              "\n",
              "          const docLinkHtml = 'Like what you see? Visit the ' +\n",
              "            '<a target=\"_blank\" href=https://colab.research.google.com/notebooks/data_table.ipynb>data table notebook</a>'\n",
              "            + ' to learn more about interactive tables.';\n",
              "          element.innerHTML = '';\n",
              "          dataTable['output_type'] = 'display_data';\n",
              "          await google.colab.output.renderOutput(dataTable, element);\n",
              "          const docLink = document.createElement('div');\n",
              "          docLink.innerHTML = docLinkHtml;\n",
              "          element.appendChild(docLink);\n",
              "        }\n",
              "      </script>\n",
              "    </div>\n",
              "  </div>\n",
              "  "
            ]
          },
          "metadata": {},
          "execution_count": 2
        }
      ]
    },
    {
      "cell_type": "markdown",
      "source": [
        "1. Find out the maximum and minimum price of the flat."
      ],
      "metadata": {
        "id": "-EFFjYEi8wcz"
      }
    },
    {
      "cell_type": "code",
      "source": [
        "max_price = df['price'].max()\n",
        "min_price = df['price'].min()\n",
        "\n",
        "print(\"MAX Price of Flat : \",max_price)\n",
        "print(\"MIN Price of Flat : \",min_price)"
      ],
      "metadata": {
        "colab": {
          "base_uri": "https://localhost:8080/"
        },
        "id": "bsNUSjdJ8zmK",
        "outputId": "1b01feef-f252-4e20-92e6-225a16b9c654"
      },
      "execution_count": null,
      "outputs": [
        {
          "output_type": "stream",
          "name": "stdout",
          "text": [
            "MAX Price of Flat :  884790\n",
            "MIN Price of Flat :  1551\n"
          ]
        }
      ]
    },
    {
      "cell_type": "markdown",
      "source": [
        "2. Find out the maximum and minimum price of the flats in each range, like 1 bedroom, 2 bedrooms and 3 bedrooms and so on."
      ],
      "metadata": {
        "id": "YIkvFD5T9uw7"
      }
    },
    {
      "cell_type": "code",
      "source": [
        "from pandas.io.stata import max_len_string_array\n",
        "bedroom_groups = df.groupby('beds')\n",
        "\n",
        "for name, group in bedroom_groups:\n",
        "  max_price = group['price'].max()\n",
        "  min_price = group['price'].min()\n",
        "  print(\"Bedrooms : \",name)\n",
        "  print(\"Max Price of Flat : \",max_price)\n",
        "  print(\"Min Price of Flat : \",min_price)"
      ],
      "metadata": {
        "colab": {
          "base_uri": "https://localhost:8080/"
        },
        "id": "R8eLcW4-96FL",
        "outputId": "c0614964-de6c-445c-9492-9ecca6680b4b"
      },
      "execution_count": null,
      "outputs": [
        {
          "output_type": "stream",
          "name": "stdout",
          "text": [
            "Bedrooms :  0\n",
            "Max Price of Flat :  680000\n",
            "Min Price of Flat :  4897\n",
            "Bedrooms :  1\n",
            "Max Price of Flat :  210944\n",
            "Min Price of Flat :  48000\n",
            "Bedrooms :  2\n",
            "Max Price of Flat :  575000\n",
            "Min Price of Flat :  40000\n",
            "Bedrooms :  3\n",
            "Max Price of Flat :  677048\n",
            "Min Price of Flat :  1551\n",
            "Bedrooms :  4\n",
            "Max Price of Flat :  884790\n",
            "Min Price of Flat :  4897\n",
            "Bedrooms :  5\n",
            "Max Price of Flat :  760000\n",
            "Min Price of Flat :  150000\n",
            "Bedrooms :  6\n",
            "Max Price of Flat :  830000\n",
            "Min Price of Flat :  159900\n",
            "Bedrooms :  8\n",
            "Max Price of Flat :  282400\n",
            "Min Price of Flat :  282400\n"
          ]
        }
      ]
    },
    {
      "cell_type": "markdown",
      "source": [
        "3. On average, which is a costly city in respect of the prices of flats?"
      ],
      "metadata": {
        "id": "gxOXwnqD_VQT"
      }
    },
    {
      "cell_type": "code",
      "source": [
        "city_avg_prices = df.groupby('city')['price'].mean()\n",
        "most_expensive_city = city_avg_prices.idxmax()\n",
        "print(f\"The City with Highest Average Flat Price is {most_expensive_city}.\")"
      ],
      "metadata": {
        "colab": {
          "base_uri": "https://localhost:8080/"
        },
        "id": "eJyw62skBkzR",
        "outputId": "7f0fea36-9bd3-4c59-b7c7-7cdd03b9eae3"
      },
      "execution_count": null,
      "outputs": [
        {
          "output_type": "stream",
          "name": "stdout",
          "text": [
            "The City with Highest Average Flat Price is GRANITE BAY.\n"
          ]
        }
      ]
    },
    {
      "cell_type": "markdown",
      "source": [
        "4. Which flats are more costly? Residential or condo? What is the average price?"
      ],
      "metadata": {
        "id": "1IMTp1rAHNxE"
      }
    },
    {
      "cell_type": "code",
      "source": [
        "grouped = df.groupby('type')\n",
        "\n",
        "avg_prices = grouped['price'].mean()\n",
        "\n",
        "print(\"Property Type\\tAverage Price\")\n",
        "print(\"------------------------------\")\n",
        "print(avg_prices)\n",
        "\n",
        "if avg_prices['Residential'] > avg_prices['Condo']:\n",
        "    print(\"\\nResidential flats are more costly.\")\n",
        "else:\n",
        "    print(\"\\nCondo flats are more costly.\")"
      ],
      "metadata": {
        "colab": {
          "base_uri": "https://localhost:8080/"
        },
        "id": "8EqY6QQp_arR",
        "outputId": "4a7c23c9-add4-4d1c-c1b5-73d3583b9529"
      },
      "execution_count": null,
      "outputs": [
        {
          "output_type": "stream",
          "name": "stdout",
          "text": [
            "Property Type\tAverage Price\n",
            "------------------------------\n",
            "type\n",
            "Condo           150082.185185\n",
            "Multi-Family    224534.692308\n",
            "Residential     239186.162486\n",
            "Unkown          275000.000000\n",
            "Name: price, dtype: float64\n",
            "\n",
            "Residential flats are more costly.\n"
          ]
        }
      ]
    },
    {
      "cell_type": "markdown",
      "source": [
        "5. Do we need to take care of the missing values? Which feature will you look for?\n",
        "Handle the missing values using at least 2 different methods."
      ],
      "metadata": {
        "id": "DerXEX9iLGzq"
      }
    },
    {
      "cell_type": "code",
      "source": [
        "# Create a boolean dataframe indicating which cells have missing values\n",
        "missing_values = df.isna()\n",
        "# Count the number of missing values for each feature\n",
        "missing_counts = missing_values.sum()\n",
        "# Print the results\n",
        "print(\"Features with missing values:\")\n",
        "print(missing_counts)"
      ],
      "metadata": {
        "colab": {
          "base_uri": "https://localhost:8080/"
        },
        "id": "pmIWSka4LOno",
        "outputId": "04defe68-1028-45d1-da84-eb6527dc935e"
      },
      "execution_count": null,
      "outputs": [
        {
          "output_type": "stream",
          "name": "stdout",
          "text": [
            "Features with missing values:\n",
            "street       0\n",
            "city         0\n",
            "zip          0\n",
            "state        0\n",
            "beds         0\n",
            "baths        0\n",
            "sq__ft       0\n",
            "type         0\n",
            "sale_date    0\n",
            "price        0\n",
            "latitude     0\n",
            "longitude    0\n",
            "dtype: int64\n"
          ]
        }
      ]
    },
    {
      "cell_type": "code",
      "source": [
        "# Drop rows with missing values\n",
        "df = df.dropna()\n",
        "\n",
        "# Verify that there are no more missing values\n",
        "print(df.isna().sum())\n"
      ],
      "metadata": {
        "colab": {
          "base_uri": "https://localhost:8080/"
        },
        "id": "ovVWtc5EPOMJ",
        "outputId": "76f3f973-e9ef-42be-a89e-cf08426024db"
      },
      "execution_count": null,
      "outputs": [
        {
          "output_type": "stream",
          "name": "stdout",
          "text": [
            "street       0\n",
            "city         0\n",
            "zip          0\n",
            "state        0\n",
            "beds         0\n",
            "baths        0\n",
            "sq__ft       0\n",
            "type         0\n",
            "sale_date    0\n",
            "price        0\n",
            "latitude     0\n",
            "longitude    0\n",
            "dtype: int64\n"
          ]
        }
      ]
    },
    {
      "cell_type": "code",
      "source": [
        "mean_bathroom = df['baths'].mean()\n",
        "\n",
        "# Fill missing values with the mean of the 'bathroom' feature\n",
        "df['baths'] = df['baths'].fillna(mean_bathroom)\n",
        "\n",
        "# Verify that there are no more missing values\n",
        "print(df.isna().sum())\n"
      ],
      "metadata": {
        "colab": {
          "base_uri": "https://localhost:8080/"
        },
        "id": "9EIOTD2KPYWK",
        "outputId": "ddb03636-fe81-4e9d-ebdc-1d26f342b318"
      },
      "execution_count": null,
      "outputs": [
        {
          "output_type": "stream",
          "name": "stdout",
          "text": [
            "street       0\n",
            "city         0\n",
            "zip          0\n",
            "state        0\n",
            "beds         0\n",
            "baths        0\n",
            "sq__ft       0\n",
            "type         0\n",
            "sale_date    0\n",
            "price        0\n",
            "latitude     0\n",
            "longitude    0\n",
            "dtype: int64\n"
          ]
        }
      ]
    }
  ]
}