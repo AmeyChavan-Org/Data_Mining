{
  "nbformat": 4,
  "nbformat_minor": 0,
  "metadata": {
    "colab": {
      "provenance": [],
      "mount_file_id": "1V3b2fX2oT_mUNsIBtA5qSRcKBHy6t1yJ",
      "authorship_tag": "ABX9TyO+Sn+fU4jwDyQB7DqhAYMI",
      "include_colab_link": true
    },
    "kernelspec": {
      "name": "python3",
      "display_name": "Python 3"
    },
    "language_info": {
      "name": "python"
    }
  },
  "cells": [
    {
      "cell_type": "markdown",
      "metadata": {
        "id": "view-in-github",
        "colab_type": "text"
      },
      "source": [
        "<a href=\"https://colab.research.google.com/github/AmeyChavan-Org/Data_Mining/blob/main/linearRegression.ipynb\" target=\"_parent\"><img src=\"https://colab.research.google.com/assets/colab-badge.svg\" alt=\"Open In Colab\"/></a>"
      ]
    },
    {
      "cell_type": "code",
      "execution_count": null,
      "metadata": {
        "id": "ZO2SH7iNzml4"
      },
      "outputs": [],
      "source": [
        "import pandas as pd"
      ]
    },
    {
      "cell_type": "code",
      "source": [
        "import numpy as np\n",
        "from numpy import cov"
      ],
      "metadata": {
        "id": "6Holz4Ao1HYk"
      },
      "execution_count": null,
      "outputs": []
    },
    {
      "cell_type": "code",
      "source": [
        "import matplotlib.pyplot as plt"
      ],
      "metadata": {
        "id": "lk0qI8181P9J"
      },
      "execution_count": null,
      "outputs": []
    },
    {
      "cell_type": "code",
      "source": [
        "from google.colab import drive\n",
        "drive.mount('/content/drive')"
      ],
      "metadata": {
        "colab": {
          "base_uri": "https://localhost:8080/"
        },
        "id": "xCzX-pAf1ZKa",
        "outputId": "b9acb8a0-60b2-43c3-e93d-81125b7110a6"
      },
      "execution_count": null,
      "outputs": [
        {
          "output_type": "stream",
          "name": "stdout",
          "text": [
            "Drive already mounted at /content/drive; to attempt to forcibly remount, call drive.mount(\"/content/drive\", force_remount=True).\n"
          ]
        }
      ]
    },
    {
      "cell_type": "code",
      "source": [
        "df=pd.read_csv('/content/drive/MyDrive/Colab Notebooks/swedan linear - slr06.csv')\n",
        "df"
      ],
      "metadata": {
        "colab": {
          "base_uri": "https://localhost:8080/",
          "height": 424
        },
        "id": "0JINSElM1cn6",
        "outputId": "fd02b576-dab4-43e1-9a33-6fec180e7cd1"
      },
      "execution_count": null,
      "outputs": [
        {
          "output_type": "execute_result",
          "data": {
            "text/plain": [
              "      X      Y\n",
              "0   108  392.5\n",
              "1    19   46.2\n",
              "2    13   15.7\n",
              "3   124  422.2\n",
              "4    40  119.4\n",
              "..  ...    ...\n",
              "58    9   87.4\n",
              "59   31  209.8\n",
              "60   14   95.5\n",
              "61   53  244.6\n",
              "62   26  187.5\n",
              "\n",
              "[63 rows x 2 columns]"
            ],
            "text/html": [
              "\n",
              "  <div id=\"df-1de0c2df-61e3-417b-af08-047ba84ff30b\">\n",
              "    <div class=\"colab-df-container\">\n",
              "      <div>\n",
              "<style scoped>\n",
              "    .dataframe tbody tr th:only-of-type {\n",
              "        vertical-align: middle;\n",
              "    }\n",
              "\n",
              "    .dataframe tbody tr th {\n",
              "        vertical-align: top;\n",
              "    }\n",
              "\n",
              "    .dataframe thead th {\n",
              "        text-align: right;\n",
              "    }\n",
              "</style>\n",
              "<table border=\"1\" class=\"dataframe\">\n",
              "  <thead>\n",
              "    <tr style=\"text-align: right;\">\n",
              "      <th></th>\n",
              "      <th>X</th>\n",
              "      <th>Y</th>\n",
              "    </tr>\n",
              "  </thead>\n",
              "  <tbody>\n",
              "    <tr>\n",
              "      <th>0</th>\n",
              "      <td>108</td>\n",
              "      <td>392.5</td>\n",
              "    </tr>\n",
              "    <tr>\n",
              "      <th>1</th>\n",
              "      <td>19</td>\n",
              "      <td>46.2</td>\n",
              "    </tr>\n",
              "    <tr>\n",
              "      <th>2</th>\n",
              "      <td>13</td>\n",
              "      <td>15.7</td>\n",
              "    </tr>\n",
              "    <tr>\n",
              "      <th>3</th>\n",
              "      <td>124</td>\n",
              "      <td>422.2</td>\n",
              "    </tr>\n",
              "    <tr>\n",
              "      <th>4</th>\n",
              "      <td>40</td>\n",
              "      <td>119.4</td>\n",
              "    </tr>\n",
              "    <tr>\n",
              "      <th>...</th>\n",
              "      <td>...</td>\n",
              "      <td>...</td>\n",
              "    </tr>\n",
              "    <tr>\n",
              "      <th>58</th>\n",
              "      <td>9</td>\n",
              "      <td>87.4</td>\n",
              "    </tr>\n",
              "    <tr>\n",
              "      <th>59</th>\n",
              "      <td>31</td>\n",
              "      <td>209.8</td>\n",
              "    </tr>\n",
              "    <tr>\n",
              "      <th>60</th>\n",
              "      <td>14</td>\n",
              "      <td>95.5</td>\n",
              "    </tr>\n",
              "    <tr>\n",
              "      <th>61</th>\n",
              "      <td>53</td>\n",
              "      <td>244.6</td>\n",
              "    </tr>\n",
              "    <tr>\n",
              "      <th>62</th>\n",
              "      <td>26</td>\n",
              "      <td>187.5</td>\n",
              "    </tr>\n",
              "  </tbody>\n",
              "</table>\n",
              "<p>63 rows × 2 columns</p>\n",
              "</div>\n",
              "      <button class=\"colab-df-convert\" onclick=\"convertToInteractive('df-1de0c2df-61e3-417b-af08-047ba84ff30b')\"\n",
              "              title=\"Convert this dataframe to an interactive table.\"\n",
              "              style=\"display:none;\">\n",
              "        \n",
              "  <svg xmlns=\"http://www.w3.org/2000/svg\" height=\"24px\"viewBox=\"0 0 24 24\"\n",
              "       width=\"24px\">\n",
              "    <path d=\"M0 0h24v24H0V0z\" fill=\"none\"/>\n",
              "    <path d=\"M18.56 5.44l.94 2.06.94-2.06 2.06-.94-2.06-.94-.94-2.06-.94 2.06-2.06.94zm-11 1L8.5 8.5l.94-2.06 2.06-.94-2.06-.94L8.5 2.5l-.94 2.06-2.06.94zm10 10l.94 2.06.94-2.06 2.06-.94-2.06-.94-.94-2.06-.94 2.06-2.06.94z\"/><path d=\"M17.41 7.96l-1.37-1.37c-.4-.4-.92-.59-1.43-.59-.52 0-1.04.2-1.43.59L10.3 9.45l-7.72 7.72c-.78.78-.78 2.05 0 2.83L4 21.41c.39.39.9.59 1.41.59.51 0 1.02-.2 1.41-.59l7.78-7.78 2.81-2.81c.8-.78.8-2.07 0-2.86zM5.41 20L4 18.59l7.72-7.72 1.47 1.35L5.41 20z\"/>\n",
              "  </svg>\n",
              "      </button>\n",
              "      \n",
              "  <style>\n",
              "    .colab-df-container {\n",
              "      display:flex;\n",
              "      flex-wrap:wrap;\n",
              "      gap: 12px;\n",
              "    }\n",
              "\n",
              "    .colab-df-convert {\n",
              "      background-color: #E8F0FE;\n",
              "      border: none;\n",
              "      border-radius: 50%;\n",
              "      cursor: pointer;\n",
              "      display: none;\n",
              "      fill: #1967D2;\n",
              "      height: 32px;\n",
              "      padding: 0 0 0 0;\n",
              "      width: 32px;\n",
              "    }\n",
              "\n",
              "    .colab-df-convert:hover {\n",
              "      background-color: #E2EBFA;\n",
              "      box-shadow: 0px 1px 2px rgba(60, 64, 67, 0.3), 0px 1px 3px 1px rgba(60, 64, 67, 0.15);\n",
              "      fill: #174EA6;\n",
              "    }\n",
              "\n",
              "    [theme=dark] .colab-df-convert {\n",
              "      background-color: #3B4455;\n",
              "      fill: #D2E3FC;\n",
              "    }\n",
              "\n",
              "    [theme=dark] .colab-df-convert:hover {\n",
              "      background-color: #434B5C;\n",
              "      box-shadow: 0px 1px 3px 1px rgba(0, 0, 0, 0.15);\n",
              "      filter: drop-shadow(0px 1px 2px rgba(0, 0, 0, 0.3));\n",
              "      fill: #FFFFFF;\n",
              "    }\n",
              "  </style>\n",
              "\n",
              "      <script>\n",
              "        const buttonEl =\n",
              "          document.querySelector('#df-1de0c2df-61e3-417b-af08-047ba84ff30b button.colab-df-convert');\n",
              "        buttonEl.style.display =\n",
              "          google.colab.kernel.accessAllowed ? 'block' : 'none';\n",
              "\n",
              "        async function convertToInteractive(key) {\n",
              "          const element = document.querySelector('#df-1de0c2df-61e3-417b-af08-047ba84ff30b');\n",
              "          const dataTable =\n",
              "            await google.colab.kernel.invokeFunction('convertToInteractive',\n",
              "                                                     [key], {});\n",
              "          if (!dataTable) return;\n",
              "\n",
              "          const docLinkHtml = 'Like what you see? Visit the ' +\n",
              "            '<a target=\"_blank\" href=https://colab.research.google.com/notebooks/data_table.ipynb>data table notebook</a>'\n",
              "            + ' to learn more about interactive tables.';\n",
              "          element.innerHTML = '';\n",
              "          dataTable['output_type'] = 'display_data';\n",
              "          await google.colab.output.renderOutput(dataTable, element);\n",
              "          const docLink = document.createElement('div');\n",
              "          docLink.innerHTML = docLinkHtml;\n",
              "          element.appendChild(docLink);\n",
              "        }\n",
              "      </script>\n",
              "    </div>\n",
              "  </div>\n",
              "  "
            ]
          },
          "metadata": {},
          "execution_count": 22
        }
      ]
    },
    {
      "cell_type": "code",
      "source": [
        "type(df)"
      ],
      "metadata": {
        "colab": {
          "base_uri": "https://localhost:8080/"
        },
        "id": "4ZBgP7ZL1odS",
        "outputId": "5a49e412-b6c4-45ae-807a-076ba1848006"
      },
      "execution_count": null,
      "outputs": [
        {
          "output_type": "execute_result",
          "data": {
            "text/plain": [
              "pandas.core.frame.DataFrame"
            ]
          },
          "metadata": {},
          "execution_count": 23
        }
      ]
    },
    {
      "cell_type": "code",
      "source": [
        "covariance= cov(df['X'], df['Y'])\n",
        "print(covariance)"
      ],
      "metadata": {
        "colab": {
          "base_uri": "https://localhost:8080/"
        },
        "id": "XENBZjNF1utI",
        "outputId": "dd4df62f-86d0-4e43-aa59-e9173349f284"
      },
      "execution_count": null,
      "outputs": [
        {
          "output_type": "stream",
          "name": "stdout",
          "text": [
            "[[ 545.31336406 1861.60360983]\n",
            " [1861.60360983 7626.10144905]]\n"
          ]
        }
      ]
    },
    {
      "cell_type": "markdown",
      "source": [
        "the above covariance show positive and greater than 0, it means they are positively co related and going in the same direction."
      ],
      "metadata": {
        "id": "qFc5rChy19DL"
      }
    },
    {
      "cell_type": "code",
      "source": [
        "x = df.iloc[:, :-1].values #get a copy of dataset exclude last column\n",
        "y = df.iloc[:, 1].values #get array of dataset in column 1st"
      ],
      "metadata": {
        "id": "BN0fi2fe18D7"
      },
      "execution_count": null,
      "outputs": []
    },
    {
      "cell_type": "code",
      "source": [
        "print(x)"
      ],
      "metadata": {
        "colab": {
          "base_uri": "https://localhost:8080/"
        },
        "id": "GV9KtPcq2ONl",
        "outputId": "3650479c-17c7-4521-ef39-7887a7a9438e"
      },
      "execution_count": null,
      "outputs": [
        {
          "output_type": "stream",
          "name": "stdout",
          "text": [
            "[[108]\n",
            " [ 19]\n",
            " [ 13]\n",
            " [124]\n",
            " [ 40]\n",
            " [ 57]\n",
            " [ 23]\n",
            " [ 14]\n",
            " [ 45]\n",
            " [ 10]\n",
            " [  5]\n",
            " [ 48]\n",
            " [ 11]\n",
            " [ 23]\n",
            " [  7]\n",
            " [  2]\n",
            " [ 24]\n",
            " [  6]\n",
            " [  3]\n",
            " [ 23]\n",
            " [  6]\n",
            " [  9]\n",
            " [  9]\n",
            " [  3]\n",
            " [ 29]\n",
            " [  7]\n",
            " [  4]\n",
            " [ 20]\n",
            " [  7]\n",
            " [  4]\n",
            " [  0]\n",
            " [ 25]\n",
            " [  6]\n",
            " [  5]\n",
            " [ 22]\n",
            " [ 11]\n",
            " [ 61]\n",
            " [ 12]\n",
            " [  4]\n",
            " [ 16]\n",
            " [ 13]\n",
            " [ 60]\n",
            " [ 41]\n",
            " [ 37]\n",
            " [ 55]\n",
            " [ 41]\n",
            " [ 11]\n",
            " [ 27]\n",
            " [  8]\n",
            " [  3]\n",
            " [ 17]\n",
            " [ 13]\n",
            " [ 13]\n",
            " [ 15]\n",
            " [  8]\n",
            " [ 29]\n",
            " [ 30]\n",
            " [ 24]\n",
            " [  9]\n",
            " [ 31]\n",
            " [ 14]\n",
            " [ 53]\n",
            " [ 26]]\n"
          ]
        }
      ]
    },
    {
      "cell_type": "markdown",
      "source": [
        "Splitting the dataset into the Training set and Test set"
      ],
      "metadata": {
        "id": "kV1dpyIW2a2o"
      }
    },
    {
      "cell_type": "code",
      "source": [
        "from sklearn.model_selection import train_test_split \n",
        "x_train, x_test, y_train, y_test = train_test_split(x, y, test_size=1/3, random_state=0)"
      ],
      "metadata": {
        "id": "01dxX9ul2Zs6"
      },
      "execution_count": null,
      "outputs": []
    },
    {
      "cell_type": "markdown",
      "source": [
        "Fitting Simple Linear Regression to the Training set"
      ],
      "metadata": {
        "id": "Xb1rajQ12lMm"
      }
    },
    {
      "cell_type": "code",
      "source": [
        "from sklearn.linear_model import LinearRegression\n",
        "regressor = LinearRegression()\n",
        "regressor.fit(x_train, y_train)\n",
        "print(\"r2 value =\",regressor.score(x_train,y_train))\n",
        "print(\"intercept =\",regressor.intercept_)\n",
        "print(\"slope =\",regressor.coef_)"
      ],
      "metadata": {
        "colab": {
          "base_uri": "https://localhost:8080/"
        },
        "id": "woQP7Ji92kR7",
        "outputId": "807e42a9-f06d-4d68-ab2d-0cdae1a187b2"
      },
      "execution_count": null,
      "outputs": [
        {
          "output_type": "stream",
          "name": "stdout",
          "text": [
            "r2 value = 0.8731692074051253\n",
            "intercept = 20.17489543282366\n",
            "slope = [3.38384102]\n"
          ]
        }
      ]
    },
    {
      "cell_type": "code",
      "source": [
        "count= 20.17489543282366+(3.38384102*18)\n",
        "print(\"your estimated count\",count)"
      ],
      "metadata": {
        "colab": {
          "base_uri": "https://localhost:8080/"
        },
        "id": "I2kEJdA22tpE",
        "outputId": "6a9f6b07-289b-46c1-c3c6-d2bf8d863980"
      },
      "execution_count": null,
      "outputs": [
        {
          "output_type": "stream",
          "name": "stdout",
          "text": [
            "your estimated count 81.08403379282366\n"
          ]
        }
      ]
    },
    {
      "cell_type": "markdown",
      "source": [
        "visualize the results"
      ],
      "metadata": {
        "id": "7xk_N71V2w2h"
      }
    },
    {
      "cell_type": "code",
      "source": [
        "train = plt\n",
        "train.scatter(x_train, y_train, color='red')\n",
        "train.plot(x_train, regressor.predict(x_train), color='blue')\n",
        "train.title('X Vs Y (Training set)')\n",
        "train.xlabel('X')\n",
        "train.ylabel('Y')\n",
        "train.show()"
      ],
      "metadata": {
        "colab": {
          "base_uri": "https://localhost:8080/",
          "height": 472
        },
        "id": "q_h8ZHR42v6a",
        "outputId": "d185780b-4300-4e42-e4b7-41af3fa73a4d"
      },
      "execution_count": null,
      "outputs": [
        {
          "output_type": "display_data",
          "data": {
            "text/plain": [
              "<Figure size 640x480 with 1 Axes>"
            ],
            "image/png": "[encoded data removed]"
          },
          "metadata": {}
        }
      ]
    },
    {
      "cell_type": "markdown",
      "source": [
        "same way for test data"
      ],
      "metadata": {
        "id": "lonk5a3E298Z"
      }
    },
    {
      "cell_type": "code",
      "source": [
        "test = plt\n",
        "test.scatter(x_test, y_test, color='blue')\n",
        "test.plot(x_test, regressor.predict(x_test), color='red')\n",
        "train.title('X Vs Y(Training set)')\n",
        "train.xlabel('X')\n",
        "train.ylabel('Y')\n",
        "train.show()"
      ],
      "metadata": {
        "colab": {
          "base_uri": "https://localhost:8080/",
          "height": 472
        },
        "id": "Q84lKDug29BL",
        "outputId": "228223fd-7806-4364-ad7a-3ad49d6dcbcb"
      },
      "execution_count": null,
      "outputs": [
        {
          "output_type": "display_data",
          "data": {
            "text/plain": [
              "<Figure size 640x480 with 1 Axes>"
            ],
            "image/png": "[encoded data removed]"
          },
          "metadata": {}
        }
      ]
    },
    {
      "cell_type": "markdown",
      "source": [
        "as the model is ready, now one can predict the things"
      ],
      "metadata": {
        "id": "tt1ZOmpm36az"
      }
    },
    {
      "cell_type": "code",
      "source": [
        "x=np.array([[5]])\n",
        "print(x)\n",
        "y_pred = regressor.predict(x)\n",
        "y_pred"
      ],
      "metadata": {
        "colab": {
          "base_uri": "https://localhost:8080/"
        },
        "id": "5Nw4YIM13432",
        "outputId": "4bacfbae-2730-41be-8140-f21fbc0f2ab9"
      },
      "execution_count": null,
      "outputs": [
        {
          "output_type": "stream",
          "name": "stdout",
          "text": [
            "[[5]]\n"
          ]
        },
        {
          "output_type": "execute_result",
          "data": {
            "text/plain": [
              "array([37.09410052])"
            ]
          },
          "metadata": {},
          "execution_count": 32
        }
      ]
    },
    {
      "cell_type": "markdown",
      "source": [
        "lets predict for the entire test set and find the error in each"
      ],
      "metadata": {
        "id": "OMDOrCOL4Q8n"
      }
    },
    {
      "cell_type": "code",
      "source": [
        "y_pred = regressor.predict(x_test)\n",
        "print(\"Actual values\"+ \"\\t predicted values\"+\"\\t Error\")\n",
        "err=y_test-y_pred\n",
        "for i in zip(y_test,y_pred,err):\n",
        "  print(i)"
      ],
      "metadata": {
        "colab": {
          "base_uri": "https://localhost:8080/"
        },
        "id": "CVGTv4vR4QGr",
        "outputId": "02bf94f0-94d7-47dc-8f27-093a14059512"
      },
      "execution_count": null,
      "outputs": [
        {
          "output_type": "stream",
          "name": "stdout",
          "text": [
            "Actual values\t predicted values\t Error\n",
            "(152.8, 145.3770131044281, 7.42298689557191)\n",
            "(39.9, 30.326418487278076, 9.573581512721923)\n",
            "(187.5, 108.15476190476193, 79.34523809523807)\n",
            "(93.0, 64.1648286687928, 28.835171331207206)\n",
            "(14.6, 40.47794154173249, -25.87794154173249)\n",
            "(161.5, 94.61939783215604, 66.88060216784396)\n",
            "(38.1, 33.71025950542955, 4.389740494570454)\n",
            "(21.3, 57.39714663248985, -36.09714663248985)\n",
            "(248.1, 182.5992643040943, 65.50073569590569)\n",
            "(15.7, 64.1648286687928, -48.46482866879279)\n",
            "(11.8, 33.71025950542955, -21.910259505429547)\n",
            "(95.5, 67.54866968694427, 27.951330313055735)\n",
            "(119.4, 155.52853615888253, -36.128536158882525)\n",
            "(20.9, 37.09410052358102, -16.19410052358102)\n",
            "(98.1, 87.8517157958531, 10.248284204146898)\n",
            "(40.3, 37.09410052358102, 3.2058994764189777)\n",
            "(57.2, 57.39714663248985, -0.1971466324898472)\n",
            "(73.4, 158.91237717703402, -85.51237717703401)\n",
            "(27.9, 43.86178255988396, -15.961782559883964)\n",
            "(77.5, 67.54866968694427, 9.951330313055735)\n",
            "(48.8, 43.86178255988396, 4.938217440116034)\n"
          ]
        }
      ]
    },
    {
      "cell_type": "code",
      "source": [
        "from sklearn import metrics\n",
        "y_pred = regressor.predict(x_test)\n",
        "\n",
        "print('Mean Absolute Error:', metrics.mean_absolute_error(y_test, y_pred))  \n",
        "print('Mean Squared Error:', metrics.mean_squared_error(y_test, y_pred))  \n",
        "print('Root Mean Squared Error:', np.sqrt(metrics.mean_squared_error(y_test, y_pred)))\n",
        "print('mean of experience ',np.mean(df.X))"
      ],
      "metadata": {
        "colab": {
          "base_uri": "https://localhost:8080/"
        },
        "id": "rdV2JfU44hib",
        "outputId": "1ba167d8-fc5b-4ee3-8986-14302c0f4191"
      },
      "execution_count": null,
      "outputs": [
        {
          "output_type": "stream",
          "name": "stdout",
          "text": [
            "Mean Absolute Error: 28.78986844476994\n",
            "Mean Squared Error: 1476.799580425978\n",
            "Root Mean Squared Error: 38.42915013926249\n",
            "mean of experience  22.904761904761905\n"
          ]
        }
      ]
    }
  ]
}