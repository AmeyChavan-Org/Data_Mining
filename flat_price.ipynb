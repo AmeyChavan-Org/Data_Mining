{
  "nbformat": 4,
  "nbformat_minor": 0,
  "metadata": {
    "colab": {
      "provenance": [],
      "mount_file_id": "1_rC7CxEhN_LnmsBLJ5v57UAOw05bHPPv",
      "authorship_tag": "ABX9TyO0Wi7RllawvJVXscX4eGE6",
      "include_colab_link": true
    },
    "kernelspec": {
      "name": "python3",
      "display_name": "Python 3"
    },
    "language_info": {
      "name": "python"
    }
  },
  "cells": [
    {
      "cell_type": "markdown",
      "metadata": {
        "id": "view-in-github",
        "colab_type": "text"
      },
      "source": [
        "<a href=\"https://colab.research.google.com/github/AmeyChavan-Org/Data_Mining/blob/main/flat_price.ipynb\" target=\"_parent\"><img src=\"https://colab.research.google.com/assets/colab-badge.svg\" alt=\"Open In Colab\"/></a>"
      ]
    },
    {
      "cell_type": "code",
      "execution_count": null,
      "metadata": {
        "id": "5aG5zk1UTpMp"
      },
      "outputs": [],
      "source": [
        "import pandas as pd"
      ]
    },
    {
      "cell_type": "code",
      "source": [
        "import matplotlib.pyplot as plt\n"
      ],
      "metadata": {
        "id": "W9yDOOlnUDdM"
      },
      "execution_count": null,
      "outputs": []
    },
    {
      "cell_type": "code",
      "source": [
        "import numpy as np"
      ],
      "metadata": {
        "id": "1X1XqzU6UFJr"
      },
      "execution_count": null,
      "outputs": []
    },
    {
      "cell_type": "code",
      "source": [
        "df=pd.read_csv('/content/drive/MyDrive/Colab Notebooks/real.xlsx - real.csv')"
      ],
      "metadata": {
        "id": "yJEINnq2UGar"
      },
      "execution_count": null,
      "outputs": []
    },
    {
      "cell_type": "code",
      "source": [
        "type(df)"
      ],
      "metadata": {
        "colab": {
          "base_uri": "https://localhost:8080/"
        },
        "id": "L_kb1C0uUa4o",
        "outputId": "e102f8b3-ee5f-45af-a235-9fa9139332bb"
      },
      "execution_count": null,
      "outputs": [
        {
          "output_type": "execute_result",
          "data": {
            "text/plain": [
              "pandas.core.frame.DataFrame"
            ]
          },
          "metadata": {},
          "execution_count": 32
        }
      ]
    },
    {
      "cell_type": "code",
      "source": [
        "display(df)"
      ],
      "metadata": {
        "colab": {
          "base_uri": "https://localhost:8080/",
          "height": 815
        },
        "id": "DklWZbe6UeCh",
        "outputId": "72ebd22f-94c6-4d59-8303-c9b38a8f8148"
      },
      "execution_count": null,
      "outputs": [
        {
          "output_type": "display_data",
          "data": {
            "text/plain": [
              "                  street             city    zip state  beds  baths  sq__ft  \\\n",
              "0           3526 HIGH ST       SACRAMENTO  95838    CA     2      1     836   \n",
              "1            51 OMAHA CT       SACRAMENTO  95823    CA     3      1    1167   \n",
              "2         2796 BRANCH ST       SACRAMENTO  95815    CA     2      1     796   \n",
              "3       2805 JANETTE WAY       SACRAMENTO  95815    CA     2      1     852   \n",
              "4        6001 MCMAHON DR       SACRAMENTO  95824    CA     2      1     797   \n",
              "..                   ...              ...    ...   ...   ...    ...     ...   \n",
              "980   9169 GARLINGTON CT       SACRAMENTO  95829    CA     4      3    2280   \n",
              "981      6932 RUSKUT WAY       SACRAMENTO  95823    CA     3      2    1477   \n",
              "982    7933 DAFFODIL WAY   CITRUS HEIGHTS  95610    CA     3      2    1216   \n",
              "983     8304 RED FOX WAY        ELK GROVE  95758    CA     4      2    1685   \n",
              "984  3882 YELLOWSTONE LN  EL DORADO HILLS  95762    CA     3      2    1362   \n",
              "\n",
              "            type                     sale_date   price   latitude   longitude  \n",
              "0    Residential  Wed May 21 00:00:00 EDT 2008   59222  38.631913 -121.434879  \n",
              "1    Residential  Wed May 21 00:00:00 EDT 2008   68212  38.478902 -121.431028  \n",
              "2    Residential  Wed May 21 00:00:00 EDT 2008   68880  38.618305 -121.443839  \n",
              "3    Residential  Wed May 21 00:00:00 EDT 2008   69307  38.616835 -121.439146  \n",
              "4    Residential  Wed May 21 00:00:00 EDT 2008   81900  38.519470 -121.435768  \n",
              "..           ...                           ...     ...        ...         ...  \n",
              "980  Residential  Thu May 15 00:00:00 EDT 2008  232425  38.457679 -121.359620  \n",
              "981  Residential  Thu May 15 00:00:00 EDT 2008  234000  38.499893 -121.458890  \n",
              "982  Residential  Thu May 15 00:00:00 EDT 2008  235000  38.708824 -121.256803  \n",
              "983  Residential  Thu May 15 00:00:00 EDT 2008  235301  38.417000 -121.397424  \n",
              "984  Residential  Thu May 15 00:00:00 EDT 2008  235738  38.655245 -121.075915  \n",
              "\n",
              "[985 rows x 12 columns]"
            ],
            "text/html": [
              "\n",
              "  <div id=\"df-f0b11937-1219-4940-a979-71830c6041b3\">\n",
              "    <div class=\"colab-df-container\">\n",
              "      <div>\n",
              "<style scoped>\n",
              "    .dataframe tbody tr th:only-of-type {\n",
              "        vertical-align: middle;\n",
              "    }\n",
              "\n",
              "    .dataframe tbody tr th {\n",
              "        vertical-align: top;\n",
              "    }\n",
              "\n",
              "    .dataframe thead th {\n",
              "        text-align: right;\n",
              "    }\n",
              "</style>\n",
              "<table border=\"1\" class=\"dataframe\">\n",
              "  <thead>\n",
              "    <tr style=\"text-align: right;\">\n",
              "      <th></th>\n",
              "      <th>street</th>\n",
              "      <th>city</th>\n",
              "      <th>zip</th>\n",
              "      <th>state</th>\n",
              "      <th>beds</th>\n",
              "      <th>baths</th>\n",
              "      <th>sq__ft</th>\n",
              "      <th>type</th>\n",
              "      <th>sale_date</th>\n",
              "      <th>price</th>\n",
              "      <th>latitude</th>\n",
              "      <th>longitude</th>\n",
              "    </tr>\n",
              "  </thead>\n",
              "  <tbody>\n",
              "    <tr>\n",
              "      <th>0</th>\n",
              "      <td>3526 HIGH ST</td>\n",
              "      <td>SACRAMENTO</td>\n",
              "      <td>95838</td>\n",
              "      <td>CA</td>\n",
              "      <td>2</td>\n",
              "      <td>1</td>\n",
              "      <td>836</td>\n",
              "      <td>Residential</td>\n",
              "      <td>Wed May 21 00:00:00 EDT 2008</td>\n",
              "      <td>59222</td>\n",
              "      <td>38.631913</td>\n",
              "      <td>-121.434879</td>\n",
              "    </tr>\n",
              "    <tr>\n",
              "      <th>1</th>\n",
              "      <td>51 OMAHA CT</td>\n",
              "      <td>SACRAMENTO</td>\n",
              "      <td>95823</td>\n",
              "      <td>CA</td>\n",
              "      <td>3</td>\n",
              "      <td>1</td>\n",
              "      <td>1167</td>\n",
              "      <td>Residential</td>\n",
              "      <td>Wed May 21 00:00:00 EDT 2008</td>\n",
              "      <td>68212</td>\n",
              "      <td>38.478902</td>\n",
              "      <td>-121.431028</td>\n",
              "    </tr>\n",
              "    <tr>\n",
              "      <th>2</th>\n",
              "      <td>2796 BRANCH ST</td>\n",
              "      <td>SACRAMENTO</td>\n",
              "      <td>95815</td>\n",
              "      <td>CA</td>\n",
              "      <td>2</td>\n",
              "      <td>1</td>\n",
              "      <td>796</td>\n",
              "      <td>Residential</td>\n",
              "      <td>Wed May 21 00:00:00 EDT 2008</td>\n",
              "      <td>68880</td>\n",
              "      <td>38.618305</td>\n",
              "      <td>-121.443839</td>\n",
              "    </tr>\n",
              "    <tr>\n",
              "      <th>3</th>\n",
              "      <td>2805 JANETTE WAY</td>\n",
              "      <td>SACRAMENTO</td>\n",
              "      <td>95815</td>\n",
              "      <td>CA</td>\n",
              "      <td>2</td>\n",
              "      <td>1</td>\n",
              "      <td>852</td>\n",
              "      <td>Residential</td>\n",
              "      <td>Wed May 21 00:00:00 EDT 2008</td>\n",
              "      <td>69307</td>\n",
              "      <td>38.616835</td>\n",
              "      <td>-121.439146</td>\n",
              "    </tr>\n",
              "    <tr>\n",
              "      <th>4</th>\n",
              "      <td>6001 MCMAHON DR</td>\n",
              "      <td>SACRAMENTO</td>\n",
              "      <td>95824</td>\n",
              "      <td>CA</td>\n",
              "      <td>2</td>\n",
              "      <td>1</td>\n",
              "      <td>797</td>\n",
              "      <td>Residential</td>\n",
              "      <td>Wed May 21 00:00:00 EDT 2008</td>\n",
              "      <td>81900</td>\n",
              "      <td>38.519470</td>\n",
              "      <td>-121.435768</td>\n",
              "    </tr>\n",
              "    <tr>\n",
              "      <th>...</th>\n",
              "      <td>...</td>\n",
              "      <td>...</td>\n",
              "      <td>...</td>\n",
              "      <td>...</td>\n",
              "      <td>...</td>\n",
              "      <td>...</td>\n",
              "      <td>...</td>\n",
              "      <td>...</td>\n",
              "      <td>...</td>\n",
              "      <td>...</td>\n",
              "      <td>...</td>\n",
              "      <td>...</td>\n",
              "    </tr>\n",
              "    <tr>\n",
              "      <th>980</th>\n",
              "      <td>9169 GARLINGTON CT</td>\n",
              "      <td>SACRAMENTO</td>\n",
              "      <td>95829</td>\n",
              "      <td>CA</td>\n",
              "      <td>4</td>\n",
              "      <td>3</td>\n",
              "      <td>2280</td>\n",
              "      <td>Residential</td>\n",
              "      <td>Thu May 15 00:00:00 EDT 2008</td>\n",
              "      <td>232425</td>\n",
              "      <td>38.457679</td>\n",
              "      <td>-121.359620</td>\n",
              "    </tr>\n",
              "    <tr>\n",
              "      <th>981</th>\n",
              "      <td>6932 RUSKUT WAY</td>\n",
              "      <td>SACRAMENTO</td>\n",
              "      <td>95823</td>\n",
              "      <td>CA</td>\n",
              "      <td>3</td>\n",
              "      <td>2</td>\n",
              "      <td>1477</td>\n",
              "      <td>Residential</td>\n",
              "      <td>Thu May 15 00:00:00 EDT 2008</td>\n",
              "      <td>234000</td>\n",
              "      <td>38.499893</td>\n",
              "      <td>-121.458890</td>\n",
              "    </tr>\n",
              "    <tr>\n",
              "      <th>982</th>\n",
              "      <td>7933 DAFFODIL WAY</td>\n",
              "      <td>CITRUS HEIGHTS</td>\n",
              "      <td>95610</td>\n",
              "      <td>CA</td>\n",
              "      <td>3</td>\n",
              "      <td>2</td>\n",
              "      <td>1216</td>\n",
              "      <td>Residential</td>\n",
              "      <td>Thu May 15 00:00:00 EDT 2008</td>\n",
              "      <td>235000</td>\n",
              "      <td>38.708824</td>\n",
              "      <td>-121.256803</td>\n",
              "    </tr>\n",
              "    <tr>\n",
              "      <th>983</th>\n",
              "      <td>8304 RED FOX WAY</td>\n",
              "      <td>ELK GROVE</td>\n",
              "      <td>95758</td>\n",
              "      <td>CA</td>\n",
              "      <td>4</td>\n",
              "      <td>2</td>\n",
              "      <td>1685</td>\n",
              "      <td>Residential</td>\n",
              "      <td>Thu May 15 00:00:00 EDT 2008</td>\n",
              "      <td>235301</td>\n",
              "      <td>38.417000</td>\n",
              "      <td>-121.397424</td>\n",
              "    </tr>\n",
              "    <tr>\n",
              "      <th>984</th>\n",
              "      <td>3882 YELLOWSTONE LN</td>\n",
              "      <td>EL DORADO HILLS</td>\n",
              "      <td>95762</td>\n",
              "      <td>CA</td>\n",
              "      <td>3</td>\n",
              "      <td>2</td>\n",
              "      <td>1362</td>\n",
              "      <td>Residential</td>\n",
              "      <td>Thu May 15 00:00:00 EDT 2008</td>\n",
              "      <td>235738</td>\n",
              "      <td>38.655245</td>\n",
              "      <td>-121.075915</td>\n",
              "    </tr>\n",
              "  </tbody>\n",
              "</table>\n",
              "<p>985 rows × 12 columns</p>\n",
              "</div>\n",
              "      <button class=\"colab-df-convert\" onclick=\"convertToInteractive('df-f0b11937-1219-4940-a979-71830c6041b3')\"\n",
              "              title=\"Convert this dataframe to an interactive table.\"\n",
              "              style=\"display:none;\">\n",
              "        \n",
              "  <svg xmlns=\"http://www.w3.org/2000/svg\" height=\"24px\"viewBox=\"0 0 24 24\"\n",
              "       width=\"24px\">\n",
              "    <path d=\"M0 0h24v24H0V0z\" fill=\"none\"/>\n",
              "    <path d=\"M18.56 5.44l.94 2.06.94-2.06 2.06-.94-2.06-.94-.94-2.06-.94 2.06-2.06.94zm-11 1L8.5 8.5l.94-2.06 2.06-.94-2.06-.94L8.5 2.5l-.94 2.06-2.06.94zm10 10l.94 2.06.94-2.06 2.06-.94-2.06-.94-.94-2.06-.94 2.06-2.06.94z\"/><path d=\"M17.41 7.96l-1.37-1.37c-.4-.4-.92-.59-1.43-.59-.52 0-1.04.2-1.43.59L10.3 9.45l-7.72 7.72c-.78.78-.78 2.05 0 2.83L4 21.41c.39.39.9.59 1.41.59.51 0 1.02-.2 1.41-.59l7.78-7.78 2.81-2.81c.8-.78.8-2.07 0-2.86zM5.41 20L4 18.59l7.72-7.72 1.47 1.35L5.41 20z\"/>\n",
              "  </svg>\n",
              "      </button>\n",
              "      \n",
              "  <style>\n",
              "    .colab-df-container {\n",
              "      display:flex;\n",
              "      flex-wrap:wrap;\n",
              "      gap: 12px;\n",
              "    }\n",
              "\n",
              "    .colab-df-convert {\n",
              "      background-color: #E8F0FE;\n",
              "      border: none;\n",
              "      border-radius: 50%;\n",
              "      cursor: pointer;\n",
              "      display: none;\n",
              "      fill: #1967D2;\n",
              "      height: 32px;\n",
              "      padding: 0 0 0 0;\n",
              "      width: 32px;\n",
              "    }\n",
              "\n",
              "    .colab-df-convert:hover {\n",
              "      background-color: #E2EBFA;\n",
              "      box-shadow: 0px 1px 2px rgba(60, 64, 67, 0.3), 0px 1px 3px 1px rgba(60, 64, 67, 0.15);\n",
              "      fill: #174EA6;\n",
              "    }\n",
              "\n",
              "    [theme=dark] .colab-df-convert {\n",
              "      background-color: #3B4455;\n",
              "      fill: #D2E3FC;\n",
              "    }\n",
              "\n",
              "    [theme=dark] .colab-df-convert:hover {\n",
              "      background-color: #434B5C;\n",
              "      box-shadow: 0px 1px 3px 1px rgba(0, 0, 0, 0.15);\n",
              "      filter: drop-shadow(0px 1px 2px rgba(0, 0, 0, 0.3));\n",
              "      fill: #FFFFFF;\n",
              "    }\n",
              "  </style>\n",
              "\n",
              "      <script>\n",
              "        const buttonEl =\n",
              "          document.querySelector('#df-f0b11937-1219-4940-a979-71830c6041b3 button.colab-df-convert');\n",
              "        buttonEl.style.display =\n",
              "          google.colab.kernel.accessAllowed ? 'block' : 'none';\n",
              "\n",
              "        async function convertToInteractive(key) {\n",
              "          const element = document.querySelector('#df-f0b11937-1219-4940-a979-71830c6041b3');\n",
              "          const dataTable =\n",
              "            await google.colab.kernel.invokeFunction('convertToInteractive',\n",
              "                                                     [key], {});\n",
              "          if (!dataTable) return;\n",
              "\n",
              "          const docLinkHtml = 'Like what you see? Visit the ' +\n",
              "            '<a target=\"_blank\" href=https://colab.research.google.com/notebooks/data_table.ipynb>data table notebook</a>'\n",
              "            + ' to learn more about interactive tables.';\n",
              "          element.innerHTML = '';\n",
              "          dataTable['output_type'] = 'display_data';\n",
              "          await google.colab.output.renderOutput(dataTable, element);\n",
              "          const docLink = document.createElement('div');\n",
              "          docLink.innerHTML = docLinkHtml;\n",
              "          element.appendChild(docLink);\n",
              "        }\n",
              "      </script>\n",
              "    </div>\n",
              "  </div>\n",
              "  "
            ]
          },
          "metadata": {}
        }
      ]
    },
    {
      "cell_type": "markdown",
      "source": [
        "1) Find out the maximum and minimum price of the flat."
      ],
      "metadata": {
        "id": "R0Z5QNceXMId"
      }
    },
    {
      "cell_type": "code",
      "source": [
        "price=df['price']\n"
      ],
      "metadata": {
        "id": "NbXGn4tsVo4T"
      },
      "execution_count": null,
      "outputs": []
    },
    {
      "cell_type": "markdown",
      "source": [],
      "metadata": {
        "id": "OghNRhb3WZ-f"
      }
    },
    {
      "cell_type": "markdown",
      "source": [
        "Maximum price of the flat."
      ],
      "metadata": {
        "id": "EODxFy8MWeNv"
      }
    },
    {
      "cell_type": "code",
      "source": [
        "price.max()\n"
      ],
      "metadata": {
        "colab": {
          "base_uri": "https://localhost:8080/"
        },
        "id": "sZfhp2T1V_Qg",
        "outputId": "d60169e3-4371-4ce7-8c51-05151df85bf4"
      },
      "execution_count": null,
      "outputs": [
        {
          "output_type": "execute_result",
          "data": {
            "text/plain": [
              "884790"
            ]
          },
          "metadata": {},
          "execution_count": 35
        }
      ]
    },
    {
      "cell_type": "markdown",
      "source": [
        "minimum price of the flat."
      ],
      "metadata": {
        "id": "nMSE5h4pWddu"
      }
    },
    {
      "cell_type": "code",
      "source": [
        "price.min()"
      ],
      "metadata": {
        "colab": {
          "base_uri": "https://localhost:8080/"
        },
        "id": "f1F0SV-1WXWN",
        "outputId": "a0e9c0f4-89d1-4742-d23c-eba0d0923361"
      },
      "execution_count": null,
      "outputs": [
        {
          "output_type": "execute_result",
          "data": {
            "text/plain": [
              "1551"
            ]
          },
          "metadata": {},
          "execution_count": 36
        }
      ]
    },
    {
      "cell_type": "code",
      "source": [
        "flat=df.groupby('city')['price']\n",
        "flat.head(1)"
      ],
      "metadata": {
        "colab": {
          "base_uri": "https://localhost:8080/"
        },
        "id": "4MpuxoLVXWsf",
        "outputId": "03e37e05-1d03-4702-d07e-f93640588072"
      },
      "execution_count": null,
      "outputs": [
        {
          "output_type": "execute_result",
          "data": {
            "text/plain": [
              "0       59222\n",
              "8       94905\n",
              "9       98937\n",
              "17     116250\n",
              "22     123000\n",
              "25     126640\n",
              "30     133000\n",
              "33     138750\n",
              "55     178760\n",
              "58     181872\n",
              "62     183200\n",
              "71     200000\n",
              "85     237800\n",
              "102    265000\n",
              "116    299000\n",
              "132    352000\n",
              "134    370500\n",
              "135    372000\n",
              "142    395000\n",
              "190    142500\n",
              "223    201000\n",
              "224    202500\n",
              "227    205000\n",
              "242    230000\n",
              "256    250000\n",
              "302    380000\n",
              "325    504000\n",
              "334    839000\n",
              "486    289000\n",
              "543    506688\n",
              "550    676200\n",
              "686    194818\n",
              "709    216033\n",
              "757    275000\n",
              "778    300000\n",
              "820    380000\n",
              "845    490000\n",
              "866      2000\n",
              "905    147000\n",
              "Name: price, dtype: int64"
            ]
          },
          "metadata": {},
          "execution_count": 37
        }
      ]
    },
    {
      "cell_type": "code",
      "source": [
        "Q2=df.groupby('beds')['price']\n",
        "Q2.mean()\n"
      ],
      "metadata": {
        "colab": {
          "base_uri": "https://localhost:8080/"
        },
        "id": "be6JOsruhFGM",
        "outputId": "4b63d16e-444b-484d-d3fd-0df15d466933"
      },
      "execution_count": null,
      "outputs": [
        {
          "output_type": "execute_result",
          "data": {
            "text/plain": [
              "beds\n",
              "0    187585.046296\n",
              "1    109646.200000\n",
              "2    165428.300752\n",
              "3    215612.915254\n",
              "4    283260.093023\n",
              "5    399541.542373\n",
              "6    429966.666667\n",
              "8    282400.000000\n",
              "Name: price, dtype: float64"
            ]
          },
          "metadata": {},
          "execution_count": 38
        }
      ]
    },
    {
      "cell_type": "markdown",
      "source": [
        "Q2.Find out the maximum and minimum price of the flats in each range, like 1\n",
        "bedroom, 2 bedrooms and 3 bedrooms and so on."
      ],
      "metadata": {
        "id": "HpQ2jCtSbUyD"
      }
    },
    {
      "cell_type": "code",
      "source": [
        "Q2=df.groupby('beds')['price']\n",
        "Q2.max()"
      ],
      "metadata": {
        "colab": {
          "base_uri": "https://localhost:8080/"
        },
        "id": "F2V5nWxrbRTd",
        "outputId": "0bd45f0a-9074-4bc0-ae76-f4547d6b8639"
      },
      "execution_count": null,
      "outputs": [
        {
          "output_type": "execute_result",
          "data": {
            "text/plain": [
              "beds\n",
              "0    680000\n",
              "1    210944\n",
              "2    575000\n",
              "3    677048\n",
              "4    884790\n",
              "5    760000\n",
              "6    830000\n",
              "8    282400\n",
              "Name: price, dtype: int64"
            ]
          },
          "metadata": {},
          "execution_count": 39
        }
      ]
    },
    {
      "cell_type": "code",
      "source": [
        "Q2=df.groupby('beds')['price']\n",
        "Q2.min()"
      ],
      "metadata": {
        "colab": {
          "base_uri": "https://localhost:8080/"
        },
        "id": "GYV32Bw_c4GD",
        "outputId": "d0bb92ba-5121-4680-aa9e-b17bce866478"
      },
      "execution_count": null,
      "outputs": [
        {
          "output_type": "execute_result",
          "data": {
            "text/plain": [
              "beds\n",
              "0      4897\n",
              "1     48000\n",
              "2     40000\n",
              "3      1551\n",
              "4      4897\n",
              "5    150000\n",
              "6    159900\n",
              "8    282400\n",
              "Name: price, dtype: int64"
            ]
          },
          "metadata": {},
          "execution_count": 40
        }
      ]
    },
    {
      "cell_type": "markdown",
      "source": [
        "3) On average, which is a costly city in respect of the prices of flats?"
      ],
      "metadata": {
        "id": "Q2EfGs5HdcYc"
      }
    },
    {
      "cell_type": "code",
      "source": [
        "Q3=df.groupby('city')['price']\n",
        "Q3.max()"
      ],
      "metadata": {
        "colab": {
          "base_uri": "https://localhost:8080/"
        },
        "id": "dUxigGMrdYsD",
        "outputId": "93f0e7be-b6fd-4a0f-fb0f-ba32ce155281"
      },
      "execution_count": null,
      "outputs": [
        {
          "output_type": "execute_result",
          "data": {
            "text/plain": [
              "city\n",
              "ANTELOPE           408431\n",
              "AUBURN             560000\n",
              "CAMERON PARK       425000\n",
              "CARMICHAEL         668365\n",
              "CITRUS HEIGHTS     305000\n",
              "COOL               300000\n",
              "DIAMOND SPRINGS    216033\n",
              "EL DORADO          289000\n",
              "EL DORADO HILLS    879000\n",
              "ELK GROVE          510000\n",
              "ELVERTA            140000\n",
              "FAIR OAKS          680000\n",
              "FOLSOM             636000\n",
              "FORESTHILL         194818\n",
              "GALT               420000\n",
              "GARDEN VALLEY      490000\n",
              "GOLD RIVER         528000\n",
              "GRANITE BAY        760000\n",
              "GREENWOOD          395000\n",
              "LINCOLN            512000\n",
              "LOOMIS             839000\n",
              "MATHER             237800\n",
              "MEADOW VISTA       230000\n",
              "NORTH HIGHLANDS    224252\n",
              "ORANGEVALE         475000\n",
              "PENRYN             506688\n",
              "PLACERVILLE        677048\n",
              "POLLOCK PINES      280908\n",
              "RANCHO CORDOVA     430000\n",
              "RANCHO MURIETA     425000\n",
              "RIO LINDA          300000\n",
              "ROCKLIN            600000\n",
              "ROSEVILLE          614000\n",
              "SACRAMENTO         699000\n",
              "SHINGLE SPRINGS    275000\n",
              "SLOUGHHOUSE          2000\n",
              "WALNUT GROVE       380000\n",
              "WEST SACRAMENTO    200100\n",
              "WILTON             884790\n",
              "Name: price, dtype: int64"
            ]
          },
          "metadata": {},
          "execution_count": 41
        }
      ]
    },
    {
      "cell_type": "code",
      "source": [
        "Q3=(df.groupby('city')['price'].mean())\n",
        "print(Q3)"
      ],
      "metadata": {
        "colab": {
          "base_uri": "https://localhost:8080/"
        },
        "id": "oLpt5nuWgbbc",
        "outputId": "b7975cc9-6f67-4a91-e5fe-bab64ed3f018"
      },
      "execution_count": null,
      "outputs": [
        {
          "output_type": "stream",
          "name": "stdout",
          "text": [
            "city\n",
            "ANTELOPE           232496.393939\n",
            "AUBURN             405890.800000\n",
            "CAMERON PARK       267944.444444\n",
            "CARMICHAEL         295684.750000\n",
            "CITRUS HEIGHTS     187114.914286\n",
            "COOL               300000.000000\n",
            "DIAMOND SPRINGS    216033.000000\n",
            "EL DORADO          247000.000000\n",
            "EL DORADO HILLS    491698.956522\n",
            "ELK GROVE          271157.692982\n",
            "ELVERTA            132866.000000\n",
            "FAIR OAKS          303500.666667\n",
            "FOLSOM             414960.176471\n",
            "FORESTHILL         194818.000000\n",
            "GALT               236943.428571\n",
            "GARDEN VALLEY      490000.000000\n",
            "GOLD RIVER         358000.000000\n",
            "GRANITE BAY        678733.333333\n",
            "GREENWOOD          395000.000000\n",
            "LINCOLN             96539.263889\n",
            "LOOMIS             567000.000000\n",
            "MATHER             237800.000000\n",
            "MEADOW VISTA       230000.000000\n",
            "NORTH HIGHLANDS    135659.333333\n",
            "ORANGEVALE         279159.545455\n",
            "PENRYN             506688.000000\n",
            "PLACERVILLE        363863.400000\n",
            "POLLOCK PINES      240302.666667\n",
            "RANCHO CORDOVA     263405.928571\n",
            "RANCHO MURIETA     297750.000000\n",
            "RIO LINDA          172727.615385\n",
            "ROCKLIN            381835.823529\n",
            "ROSEVILLE          324528.250000\n",
            "SACRAMENTO         197735.988610\n",
            "SHINGLE SPRINGS    275000.000000\n",
            "SLOUGHHOUSE          2000.000000\n",
            "WALNUT GROVE       380000.000000\n",
            "WEST SACRAMENTO    170700.000000\n",
            "WILTON             617508.400000\n",
            "Name: price, dtype: float64\n"
          ]
        }
      ]
    },
    {
      "cell_type": "code",
      "source": [
        "print(\"hisgest average price:\",Q3.idxmax())\n",
        "print(\"The average price:\",Q3.max())"
      ],
      "metadata": {
        "colab": {
          "base_uri": "https://localhost:8080/"
        },
        "id": "VJmgO-Bpj_Qa",
        "outputId": "fac95239-1e8e-46bc-99e3-1915e04e869f"
      },
      "execution_count": null,
      "outputs": [
        {
          "output_type": "stream",
          "name": "stdout",
          "text": [
            "hisgest average price: GRANITE BAY\n",
            "The average price: 678733.3333333334\n"
          ]
        }
      ]
    },
    {
      "cell_type": "markdown",
      "source": [
        "4) Which flats are more costly? Residential or condo? What is the average price?"
      ],
      "metadata": {
        "id": "KroGt5hiduWr"
      }
    },
    {
      "cell_type": "code",
      "source": [
        "grouped = df.groupby('type')\n",
        "\n",
        "avg_prices = grouped['price'].mean()\n",
        "\n",
        "print(\"Property Type\\tAverage Price\")\n",
        "print(\"------------------------------\")\n",
        "print(avg_prices)\n",
        "\n",
        "if avg_prices['Residential'] > avg_prices['Condo']:\n",
        "    print(\"\\nResidential flats are more costly.\")\n",
        "else:\n",
        "    print(\"\\nCondo flats are more costly.\")"
      ],
      "metadata": {
        "colab": {
          "base_uri": "https://localhost:8080/"
        },
        "id": "SDTvbcLv6U6f",
        "outputId": "efda3070-f982-4d84-8585-675e858e745d"
      },
      "execution_count": null,
      "outputs": [
        {
          "output_type": "stream",
          "name": "stdout",
          "text": [
            "Property Type\tAverage Price\n",
            "------------------------------\n",
            "type\n",
            "Condo           150082.185185\n",
            "Multi-Family    224534.692308\n",
            "Residential     239186.162486\n",
            "Unkown          275000.000000\n",
            "Name: price, dtype: float64\n",
            "\n",
            "Residential flats are more costly.\n"
          ]
        }
      ]
    },
    {
      "cell_type": "markdown",
      "source": [
        "**Do we need to take care of the missing values?**\n",
        "-> yes ,because it can lead to mis-interpretation\n",
        " **Which feature will you look for?**\n",
        " -> dropna function will take care of it \n",
        "**Handle the missing values using at least 2 different methods.**\n",
        "-> isnull will check is there any null value\n",
        "dropna will delete the missing value using Any or All method"
      ],
      "metadata": {
        "id": "5Ug5a_che5Pr"
      }
    },
    {
      "cell_type": "markdown",
      "source": [],
      "metadata": {
        "id": "-1HPTvDv7JFO"
      }
    },
    {
      "cell_type": "code",
      "source": [
        "df.isnull()"
      ],
      "metadata": {
        "colab": {
          "base_uri": "https://localhost:8080/",
          "height": 424
        },
        "id": "cvMCnp18k2nh",
        "outputId": "dfb1c7e7-9795-41b4-c96d-dbb4b511414f"
      },
      "execution_count": null,
      "outputs": [
        {
          "output_type": "execute_result",
          "data": {
            "text/plain": [
              "     street   city    zip  state   beds  baths  sq__ft   type  sale_date  \\\n",
              "0     False  False  False  False  False  False   False  False      False   \n",
              "1     False  False  False  False  False  False   False  False      False   \n",
              "2     False  False  False  False  False  False   False  False      False   \n",
              "3     False  False  False  False  False  False   False  False      False   \n",
              "4     False  False  False  False  False  False   False  False      False   \n",
              "..      ...    ...    ...    ...    ...    ...     ...    ...        ...   \n",
              "980   False  False  False  False  False  False   False  False      False   \n",
              "981   False  False  False  False  False  False   False  False      False   \n",
              "982   False  False  False  False  False  False   False  False      False   \n",
              "983   False  False  False  False  False  False   False  False      False   \n",
              "984   False  False  False  False  False  False   False  False      False   \n",
              "\n",
              "     price  latitude  longitude  \n",
              "0    False     False      False  \n",
              "1    False     False      False  \n",
              "2    False     False      False  \n",
              "3    False     False      False  \n",
              "4    False     False      False  \n",
              "..     ...       ...        ...  \n",
              "980  False     False      False  \n",
              "981  False     False      False  \n",
              "982  False     False      False  \n",
              "983  False     False      False  \n",
              "984  False     False      False  \n",
              "\n",
              "[985 rows x 12 columns]"
            ],
            "text/html": [
              "\n",
              "  <div id=\"df-01f98570-a1fb-445a-b39a-f2587489595e\">\n",
              "    <div class=\"colab-df-container\">\n",
              "      <div>\n",
              "<style scoped>\n",
              "    .dataframe tbody tr th:only-of-type {\n",
              "        vertical-align: middle;\n",
              "    }\n",
              "\n",
              "    .dataframe tbody tr th {\n",
              "        vertical-align: top;\n",
              "    }\n",
              "\n",
              "    .dataframe thead th {\n",
              "        text-align: right;\n",
              "    }\n",
              "</style>\n",
              "<table border=\"1\" class=\"dataframe\">\n",
              "  <thead>\n",
              "    <tr style=\"text-align: right;\">\n",
              "      <th></th>\n",
              "      <th>street</th>\n",
              "      <th>city</th>\n",
              "      <th>zip</th>\n",
              "      <th>state</th>\n",
              "      <th>beds</th>\n",
              "      <th>baths</th>\n",
              "      <th>sq__ft</th>\n",
              "      <th>type</th>\n",
              "      <th>sale_date</th>\n",
              "      <th>price</th>\n",
              "      <th>latitude</th>\n",
              "      <th>longitude</th>\n",
              "    </tr>\n",
              "  </thead>\n",
              "  <tbody>\n",
              "    <tr>\n",
              "      <th>0</th>\n",
              "      <td>False</td>\n",
              "      <td>False</td>\n",
              "      <td>False</td>\n",
              "      <td>False</td>\n",
              "      <td>False</td>\n",
              "      <td>False</td>\n",
              "      <td>False</td>\n",
              "      <td>False</td>\n",
              "      <td>False</td>\n",
              "      <td>False</td>\n",
              "      <td>False</td>\n",
              "      <td>False</td>\n",
              "    </tr>\n",
              "    <tr>\n",
              "      <th>1</th>\n",
              "      <td>False</td>\n",
              "      <td>False</td>\n",
              "      <td>False</td>\n",
              "      <td>False</td>\n",
              "      <td>False</td>\n",
              "      <td>False</td>\n",
              "      <td>False</td>\n",
              "      <td>False</td>\n",
              "      <td>False</td>\n",
              "      <td>False</td>\n",
              "      <td>False</td>\n",
              "      <td>False</td>\n",
              "    </tr>\n",
              "    <tr>\n",
              "      <th>2</th>\n",
              "      <td>False</td>\n",
              "      <td>False</td>\n",
              "      <td>False</td>\n",
              "      <td>False</td>\n",
              "      <td>False</td>\n",
              "      <td>False</td>\n",
              "      <td>False</td>\n",
              "      <td>False</td>\n",
              "      <td>False</td>\n",
              "      <td>False</td>\n",
              "      <td>False</td>\n",
              "      <td>False</td>\n",
              "    </tr>\n",
              "    <tr>\n",
              "      <th>3</th>\n",
              "      <td>False</td>\n",
              "      <td>False</td>\n",
              "      <td>False</td>\n",
              "      <td>False</td>\n",
              "      <td>False</td>\n",
              "      <td>False</td>\n",
              "      <td>False</td>\n",
              "      <td>False</td>\n",
              "      <td>False</td>\n",
              "      <td>False</td>\n",
              "      <td>False</td>\n",
              "      <td>False</td>\n",
              "    </tr>\n",
              "    <tr>\n",
              "      <th>4</th>\n",
              "      <td>False</td>\n",
              "      <td>False</td>\n",
              "      <td>False</td>\n",
              "      <td>False</td>\n",
              "      <td>False</td>\n",
              "      <td>False</td>\n",
              "      <td>False</td>\n",
              "      <td>False</td>\n",
              "      <td>False</td>\n",
              "      <td>False</td>\n",
              "      <td>False</td>\n",
              "      <td>False</td>\n",
              "    </tr>\n",
              "    <tr>\n",
              "      <th>...</th>\n",
              "      <td>...</td>\n",
              "      <td>...</td>\n",
              "      <td>...</td>\n",
              "      <td>...</td>\n",
              "      <td>...</td>\n",
              "      <td>...</td>\n",
              "      <td>...</td>\n",
              "      <td>...</td>\n",
              "      <td>...</td>\n",
              "      <td>...</td>\n",
              "      <td>...</td>\n",
              "      <td>...</td>\n",
              "    </tr>\n",
              "    <tr>\n",
              "      <th>980</th>\n",
              "      <td>False</td>\n",
              "      <td>False</td>\n",
              "      <td>False</td>\n",
              "      <td>False</td>\n",
              "      <td>False</td>\n",
              "      <td>False</td>\n",
              "      <td>False</td>\n",
              "      <td>False</td>\n",
              "      <td>False</td>\n",
              "      <td>False</td>\n",
              "      <td>False</td>\n",
              "      <td>False</td>\n",
              "    </tr>\n",
              "    <tr>\n",
              "      <th>981</th>\n",
              "      <td>False</td>\n",
              "      <td>False</td>\n",
              "      <td>False</td>\n",
              "      <td>False</td>\n",
              "      <td>False</td>\n",
              "      <td>False</td>\n",
              "      <td>False</td>\n",
              "      <td>False</td>\n",
              "      <td>False</td>\n",
              "      <td>False</td>\n",
              "      <td>False</td>\n",
              "      <td>False</td>\n",
              "    </tr>\n",
              "    <tr>\n",
              "      <th>982</th>\n",
              "      <td>False</td>\n",
              "      <td>False</td>\n",
              "      <td>False</td>\n",
              "      <td>False</td>\n",
              "      <td>False</td>\n",
              "      <td>False</td>\n",
              "      <td>False</td>\n",
              "      <td>False</td>\n",
              "      <td>False</td>\n",
              "      <td>False</td>\n",
              "      <td>False</td>\n",
              "      <td>False</td>\n",
              "    </tr>\n",
              "    <tr>\n",
              "      <th>983</th>\n",
              "      <td>False</td>\n",
              "      <td>False</td>\n",
              "      <td>False</td>\n",
              "      <td>False</td>\n",
              "      <td>False</td>\n",
              "      <td>False</td>\n",
              "      <td>False</td>\n",
              "      <td>False</td>\n",
              "      <td>False</td>\n",
              "      <td>False</td>\n",
              "      <td>False</td>\n",
              "      <td>False</td>\n",
              "    </tr>\n",
              "    <tr>\n",
              "      <th>984</th>\n",
              "      <td>False</td>\n",
              "      <td>False</td>\n",
              "      <td>False</td>\n",
              "      <td>False</td>\n",
              "      <td>False</td>\n",
              "      <td>False</td>\n",
              "      <td>False</td>\n",
              "      <td>False</td>\n",
              "      <td>False</td>\n",
              "      <td>False</td>\n",
              "      <td>False</td>\n",
              "      <td>False</td>\n",
              "    </tr>\n",
              "  </tbody>\n",
              "</table>\n",
              "<p>985 rows × 12 columns</p>\n",
              "</div>\n",
              "      <button class=\"colab-df-convert\" onclick=\"convertToInteractive('df-01f98570-a1fb-445a-b39a-f2587489595e')\"\n",
              "              title=\"Convert this dataframe to an interactive table.\"\n",
              "              style=\"display:none;\">\n",
              "        \n",
              "  <svg xmlns=\"http://www.w3.org/2000/svg\" height=\"24px\"viewBox=\"0 0 24 24\"\n",
              "       width=\"24px\">\n",
              "    <path d=\"M0 0h24v24H0V0z\" fill=\"none\"/>\n",
              "    <path d=\"M18.56 5.44l.94 2.06.94-2.06 2.06-.94-2.06-.94-.94-2.06-.94 2.06-2.06.94zm-11 1L8.5 8.5l.94-2.06 2.06-.94-2.06-.94L8.5 2.5l-.94 2.06-2.06.94zm10 10l.94 2.06.94-2.06 2.06-.94-2.06-.94-.94-2.06-.94 2.06-2.06.94z\"/><path d=\"M17.41 7.96l-1.37-1.37c-.4-.4-.92-.59-1.43-.59-.52 0-1.04.2-1.43.59L10.3 9.45l-7.72 7.72c-.78.78-.78 2.05 0 2.83L4 21.41c.39.39.9.59 1.41.59.51 0 1.02-.2 1.41-.59l7.78-7.78 2.81-2.81c.8-.78.8-2.07 0-2.86zM5.41 20L4 18.59l7.72-7.72 1.47 1.35L5.41 20z\"/>\n",
              "  </svg>\n",
              "      </button>\n",
              "      \n",
              "  <style>\n",
              "    .colab-df-container {\n",
              "      display:flex;\n",
              "      flex-wrap:wrap;\n",
              "      gap: 12px;\n",
              "    }\n",
              "\n",
              "    .colab-df-convert {\n",
              "      background-color: #E8F0FE;\n",
              "      border: none;\n",
              "      border-radius: 50%;\n",
              "      cursor: pointer;\n",
              "      display: none;\n",
              "      fill: #1967D2;\n",
              "      height: 32px;\n",
              "      padding: 0 0 0 0;\n",
              "      width: 32px;\n",
              "    }\n",
              "\n",
              "    .colab-df-convert:hover {\n",
              "      background-color: #E2EBFA;\n",
              "      box-shadow: 0px 1px 2px rgba(60, 64, 67, 0.3), 0px 1px 3px 1px rgba(60, 64, 67, 0.15);\n",
              "      fill: #174EA6;\n",
              "    }\n",
              "\n",
              "    [theme=dark] .colab-df-convert {\n",
              "      background-color: #3B4455;\n",
              "      fill: #D2E3FC;\n",
              "    }\n",
              "\n",
              "    [theme=dark] .colab-df-convert:hover {\n",
              "      background-color: #434B5C;\n",
              "      box-shadow: 0px 1px 3px 1px rgba(0, 0, 0, 0.15);\n",
              "      filter: drop-shadow(0px 1px 2px rgba(0, 0, 0, 0.3));\n",
              "      fill: #FFFFFF;\n",
              "    }\n",
              "  </style>\n",
              "\n",
              "      <script>\n",
              "        const buttonEl =\n",
              "          document.querySelector('#df-01f98570-a1fb-445a-b39a-f2587489595e button.colab-df-convert');\n",
              "        buttonEl.style.display =\n",
              "          google.colab.kernel.accessAllowed ? 'block' : 'none';\n",
              "\n",
              "        async function convertToInteractive(key) {\n",
              "          const element = document.querySelector('#df-01f98570-a1fb-445a-b39a-f2587489595e');\n",
              "          const dataTable =\n",
              "            await google.colab.kernel.invokeFunction('convertToInteractive',\n",
              "                                                     [key], {});\n",
              "          if (!dataTable) return;\n",
              "\n",
              "          const docLinkHtml = 'Like what you see? Visit the ' +\n",
              "            '<a target=\"_blank\" href=https://colab.research.google.com/notebooks/data_table.ipynb>data table notebook</a>'\n",
              "            + ' to learn more about interactive tables.';\n",
              "          element.innerHTML = '';\n",
              "          dataTable['output_type'] = 'display_data';\n",
              "          await google.colab.output.renderOutput(dataTable, element);\n",
              "          const docLink = document.createElement('div');\n",
              "          docLink.innerHTML = docLinkHtml;\n",
              "          element.appendChild(docLink);\n",
              "        }\n",
              "      </script>\n",
              "    </div>\n",
              "  </div>\n",
              "  "
            ]
          },
          "metadata": {},
          "execution_count": 45
        }
      ]
    },
    {
      "cell_type": "code",
      "source": [
        "df.isna().sum()"
      ],
      "metadata": {
        "colab": {
          "base_uri": "https://localhost:8080/"
        },
        "id": "WdCRwPqOlGg7",
        "outputId": "f81af153-1588-475e-c0c2-71b1036b84f6"
      },
      "execution_count": null,
      "outputs": [
        {
          "output_type": "execute_result",
          "data": {
            "text/plain": [
              "street       0\n",
              "city         0\n",
              "zip          0\n",
              "state        0\n",
              "beds         0\n",
              "baths        0\n",
              "sq__ft       0\n",
              "type         0\n",
              "sale_date    0\n",
              "price        0\n",
              "latitude     0\n",
              "longitude    0\n",
              "dtype: int64"
            ]
          },
          "metadata": {},
          "execution_count": 46
        }
      ]
    },
    {
      "cell_type": "code",
      "source": [
        "(df.beds==0).sum(), (df.baths==0).sum(),(df.sq__ft==0).sum(),(df.price==0).sum(),(df.latitude==0).sum(),(df.longitude==0).sum()"
      ],
      "metadata": {
        "colab": {
          "base_uri": "https://localhost:8080/"
        },
        "id": "25yWEv_EmPwE",
        "outputId": "cb981664-9c5b-4331-d374-c0f3fa2a2837"
      },
      "execution_count": null,
      "outputs": [
        {
          "output_type": "execute_result",
          "data": {
            "text/plain": [
              "(108, 108, 171, 0, 0, 0)"
            ]
          },
          "metadata": {},
          "execution_count": 47
        }
      ]
    },
    {
      "cell_type": "code",
      "source": [
        "beds=df['baths']\n",
        "beds.replace(to_replace=0,value=pd.NA,inplace=True)\n",
        "c1=(df['baths']==0).sum()\n",
        "print('zero Values of bathrooms',c1)"
      ],
      "metadata": {
        "colab": {
          "base_uri": "https://localhost:8080/"
        },
        "id": "RSk4aFBjLFnS",
        "outputId": "9723c88a-ccaa-4af6-d51f-c2b436b11651"
      },
      "execution_count": null,
      "outputs": [
        {
          "output_type": "stream",
          "name": "stdout",
          "text": [
            "zero Values of bathrooms 0\n"
          ]
        }
      ]
    },
    {
      "cell_type": "code",
      "source": [
        "df.isna().values.any()"
      ],
      "metadata": {
        "colab": {
          "base_uri": "https://localhost:8080/"
        },
        "id": "_TmRQbqqLL-S",
        "outputId": "478b2464-6f29-4390-b087-ef8c4e4a6915"
      },
      "execution_count": null,
      "outputs": [
        {
          "output_type": "execute_result",
          "data": {
            "text/plain": [
              "True"
            ]
          },
          "metadata": {},
          "execution_count": 50
        }
      ]
    },
    {
      "cell_type": "code",
      "source": [
        "sqfoot=df['sq__ft']\n",
        "sqfoot.replace(to_replace=0,value=sqfoot.mean(),inplace=True)\n",
        "c2=(df['sq__ft']==0).sum()\n",
        "print('zero Values of sq_ft',c2)"
      ],
      "metadata": {
        "colab": {
          "base_uri": "https://localhost:8080/"
        },
        "id": "7uhZo7IJL2fy",
        "outputId": "8507a1a9-ea81-4f71-c340-1fc5e50925a2"
      },
      "execution_count": null,
      "outputs": [
        {
          "output_type": "stream",
          "name": "stdout",
          "text": [
            "zero Values of sq_ft 0\n"
          ]
        }
      ]
    }
  ]
}